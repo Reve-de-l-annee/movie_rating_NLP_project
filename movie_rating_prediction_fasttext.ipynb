{
 "cells": [
  {
   "cell_type": "code",
   "execution_count": 1,
   "metadata": {
    "ExecuteTime": {
     "end_time": "2022-08-03T08:49:02.034826Z",
     "start_time": "2022-08-03T08:48:56.953256Z"
    },
    "id": "JIJZUNjlGSG6"
   },
   "outputs": [],
   "source": [
    "import pandas as pd\n",
    "import matplotlib.pyplot as plt\n",
    "import numpy as np\n",
    "import seaborn as sns\n",
    "import warnings\n",
    "import re\n",
    "import pickle\n",
    "from sklearn.model_selection import train_test_split\n",
    "from sklearn.preprocessing import LabelEncoder\n",
    "from keras.preprocessing.text import one_hot, Tokenizer\n",
    "from keras.preprocessing.sequence import pad_sequences\n",
    "from tensorflow.keras.utils import to_categorical\n",
    "from keras.models import Sequential, load_model\n",
    "from keras.layers import Dense, Flatten, LSTM, Embedding, GlobalMaxPooling1D\n",
    "from tqdm import tqdm\n",
    "import time\n",
    "\n",
    "%matplotlib inline\n",
    "warnings.filterwarnings('ignore')"
   ]
  },
  {
   "cell_type": "code",
   "execution_count": null,
   "metadata": {
    "id": "hhJToZG6POAW"
   },
   "outputs": [],
   "source": [
    "# # 한글 폰트 적용 코드\n",
    "# def fix_font():\n",
    "#     # From https://HC.Dle.pw, By Jinseo Kim\n",
    "#     # v1.0.0\n",
    "#     import os\n",
    "#     import matplotlib as mpl\n",
    "#     import matplotlib.pyplot as plt\n",
    "#     os.system(\"apt-get install -y fonts-nanum\")\n",
    "#     os.system(\"fc-cache -fv\")\n",
    "#     mpl.font_manager._rebuild()\n",
    "#     findfont = mpl.font_manager.fontManager.findfont\n",
    "#     mpl.font_manager.findfont = findfont\n",
    "#     mpl.backends.backend_agg.findfont = findfont\n",
    "#     plt.rcParams['font.family'] = \"NanumBarunGothic\"\n",
    "#     plt.rcParams['axes.unicode_minus'] = False\n",
    "           \n",
    "# fix_font()"
   ]
  },
  {
   "cell_type": "code",
   "execution_count": 2,
   "metadata": {
    "ExecuteTime": {
     "end_time": "2022-08-03T08:49:08.160093Z",
     "start_time": "2022-08-03T08:49:06.804411Z"
    },
    "id": "NzTf7SnDGtKE"
   },
   "outputs": [
    {
     "data": {
      "text/html": [
       "<div>\n",
       "<style scoped>\n",
       "    .dataframe tbody tr th:only-of-type {\n",
       "        vertical-align: middle;\n",
       "    }\n",
       "\n",
       "    .dataframe tbody tr th {\n",
       "        vertical-align: top;\n",
       "    }\n",
       "\n",
       "    .dataframe thead th {\n",
       "        text-align: right;\n",
       "    }\n",
       "</style>\n",
       "<table border=\"1\" class=\"dataframe\">\n",
       "  <thead>\n",
       "    <tr style=\"text-align: right;\">\n",
       "      <th></th>\n",
       "      <th>Unnamed: 0</th>\n",
       "      <th>expert_score</th>\n",
       "      <th>netizen_score</th>\n",
       "      <th>title</th>\n",
       "      <th>e_title</th>\n",
       "      <th>running_time</th>\n",
       "      <th>story</th>\n",
       "      <th>making_note</th>\n",
       "      <th>box_office</th>\n",
       "      <th>grade</th>\n",
       "    </tr>\n",
       "  </thead>\n",
       "  <tbody>\n",
       "    <tr>\n",
       "      <th>0</th>\n",
       "      <td>10001</td>\n",
       "      <td>8.38</td>\n",
       "      <td>9.63</td>\n",
       "      <td>시네마 천국</td>\n",
       "      <td>Cinema Paradiso , 1988</td>\n",
       "      <td>124.0</td>\n",
       "      <td>어린 시절 영화가 세상의 전부였던 소년 토토는 학교 수업을 마치면 마을 광장에 있는...</td>\n",
       "      <td>NaN</td>\n",
       "      <td>-1</td>\n",
       "      <td>전체 관람가</td>\n",
       "    </tr>\n",
       "    <tr>\n",
       "      <th>1</th>\n",
       "      <td>10002</td>\n",
       "      <td>8.75</td>\n",
       "      <td>9.39</td>\n",
       "      <td>빽 투 더 퓨쳐</td>\n",
       "      <td>Back To The Future , 1985</td>\n",
       "      <td>120.0</td>\n",
       "      <td>힐 밸리(Hill Valley)에 사는 주인공 마티 맥플라이(Marty McFly:...</td>\n",
       "      <td>NaN</td>\n",
       "      <td>-1</td>\n",
       "      <td>12세 관람가</td>\n",
       "    </tr>\n",
       "    <tr>\n",
       "      <th>2</th>\n",
       "      <td>10003</td>\n",
       "      <td>7.50</td>\n",
       "      <td>9.65</td>\n",
       "      <td>빽 투 더 퓨쳐 2</td>\n",
       "      <td>Back To The Future Part 2 , 1989</td>\n",
       "      <td>107.0</td>\n",
       "      <td>브라운 박사(Dr. Emmett 'Doc' L. Brown: 코리스토퍼 로이드 분)...</td>\n",
       "      <td>NaN</td>\n",
       "      <td>-1</td>\n",
       "      <td>12세 관람가</td>\n",
       "    </tr>\n",
       "    <tr>\n",
       "      <th>3</th>\n",
       "      <td>10004</td>\n",
       "      <td>-1.00</td>\n",
       "      <td>-1.00</td>\n",
       "      <td>빽 투 더 퓨쳐 3</td>\n",
       "      <td>Back To The Future Part III , 1990</td>\n",
       "      <td>117.0</td>\n",
       "      <td>1955년에 남겨진 마티는 박사가 1885년으로 갔음을 알게 된다. 그의 흔적을 찾...</td>\n",
       "      <td>NaN</td>\n",
       "      <td>-1</td>\n",
       "      <td>전체 관람가</td>\n",
       "    </tr>\n",
       "    <tr>\n",
       "      <th>4</th>\n",
       "      <td>10010</td>\n",
       "      <td>-1.00</td>\n",
       "      <td>-1.00</td>\n",
       "      <td>슈퍼맨 3</td>\n",
       "      <td>Superman III , 1983</td>\n",
       "      <td>100.0</td>\n",
       "      <td>대그룹의 총수인 로스 웹스터(Ross Webster: 로버트 본 분)와 여동생 베라...</td>\n",
       "      <td>NaN</td>\n",
       "      <td>-1</td>\n",
       "      <td>전체 관람가</td>\n",
       "    </tr>\n",
       "    <tr>\n",
       "      <th>...</th>\n",
       "      <td>...</td>\n",
       "      <td>...</td>\n",
       "      <td>...</td>\n",
       "      <td>...</td>\n",
       "      <td>...</td>\n",
       "      <td>...</td>\n",
       "      <td>...</td>\n",
       "      <td>...</td>\n",
       "      <td>...</td>\n",
       "      <td>...</td>\n",
       "    </tr>\n",
       "    <tr>\n",
       "      <th>31738</th>\n",
       "      <td>190855</td>\n",
       "      <td>-1.00</td>\n",
       "      <td>-1.00</td>\n",
       "      <td>레이싱 인 더 레인</td>\n",
       "      <td>The Art of Racing in the Rain , 2019</td>\n",
       "      <td>108.0</td>\n",
       "      <td>경주용 자동차 스피드 레이서인 데니가 사랑하는 여인을 만나 딸을 낳고, 가정을 이루...</td>\n",
       "      <td>NaN</td>\n",
       "      <td>-1</td>\n",
       "      <td>전체 관람가</td>\n",
       "    </tr>\n",
       "    <tr>\n",
       "      <th>31739</th>\n",
       "      <td>190856</td>\n",
       "      <td>-1.00</td>\n",
       "      <td>-1.00</td>\n",
       "      <td>벌레스크</td>\n",
       "      <td>Az budou kravy litat , Burlesque , 2019</td>\n",
       "      <td>83.0</td>\n",
       "      <td>옷을 벗으라고? 내가 어떻게?\\n베티는 과체중의 초등학교 선생님이다. 친구를 따라 ...</td>\n",
       "      <td>NaN</td>\n",
       "      <td>-1</td>\n",
       "      <td>15세 관람가</td>\n",
       "    </tr>\n",
       "    <tr>\n",
       "      <th>31740</th>\n",
       "      <td>190977</td>\n",
       "      <td>6.00</td>\n",
       "      <td>8.00</td>\n",
       "      <td>차일드 인 타임</td>\n",
       "      <td>The Child in Time , 2017</td>\n",
       "      <td>93.0</td>\n",
       "      <td>유명한 동화 작가 ‘스티븐’에게 세상에서 가장 소중한 딸 ‘케이트’가 실종되는 사건...</td>\n",
       "      <td>ISSUE POINT #1\\n더욱 깊어진 눈빛과 섬세한 감정 연기로 돌아온 베네딕트...</td>\n",
       "      <td>-1</td>\n",
       "      <td>15세 관람가</td>\n",
       "    </tr>\n",
       "    <tr>\n",
       "      <th>31741</th>\n",
       "      <td>190978</td>\n",
       "      <td>-1.00</td>\n",
       "      <td>-1.00</td>\n",
       "      <td>어웨이크너: 히어로의 탄생</td>\n",
       "      <td>The Awakener , 2018</td>\n",
       "      <td>106.0</td>\n",
       "      <td>부패 정치인 처단을 위한, 맞춤형 히어로의 탄생!\\n의문의 사고로 사랑하는 딸 ‘알...</td>\n",
       "      <td>NaN</td>\n",
       "      <td>-1</td>\n",
       "      <td>15세 관람가</td>\n",
       "    </tr>\n",
       "    <tr>\n",
       "      <th>31742</th>\n",
       "      <td>190979</td>\n",
       "      <td>4.67</td>\n",
       "      <td>8.80</td>\n",
       "      <td>월성</td>\n",
       "      <td>2019</td>\n",
       "      <td>83.0</td>\n",
       "      <td>세상에서 가장 위험한 쓰레기\\n핵폐기물 옆에 사람이 살고 있다!\\n원자력발전소, 폐...</td>\n",
       "      <td>NaN</td>\n",
       "      <td>-1</td>\n",
       "      <td>전체 관람가</td>\n",
       "    </tr>\n",
       "  </tbody>\n",
       "</table>\n",
       "<p>31743 rows × 10 columns</p>\n",
       "</div>"
      ],
      "text/plain": [
       "       Unnamed: 0  expert_score  netizen_score           title  \\\n",
       "0           10001          8.38           9.63          시네마 천국   \n",
       "1           10002          8.75           9.39        빽 투 더 퓨쳐   \n",
       "2           10003          7.50           9.65      빽 투 더 퓨쳐 2   \n",
       "3           10004         -1.00          -1.00      빽 투 더 퓨쳐 3   \n",
       "4           10010         -1.00          -1.00           슈퍼맨 3   \n",
       "...           ...           ...            ...             ...   \n",
       "31738      190855         -1.00          -1.00      레이싱 인 더 레인   \n",
       "31739      190856         -1.00          -1.00            벌레스크   \n",
       "31740      190977          6.00           8.00        차일드 인 타임   \n",
       "31741      190978         -1.00          -1.00  어웨이크너: 히어로의 탄생   \n",
       "31742      190979          4.67           8.80              월성   \n",
       "\n",
       "                                       e_title  running_time  \\\n",
       "0                       Cinema Paradiso , 1988         124.0   \n",
       "1                    Back To The Future , 1985         120.0   \n",
       "2             Back To The Future Part 2 , 1989         107.0   \n",
       "3           Back To The Future Part III , 1990         117.0   \n",
       "4                          Superman III , 1983         100.0   \n",
       "...                                        ...           ...   \n",
       "31738     The Art of Racing in the Rain , 2019         108.0   \n",
       "31739  Az budou kravy litat , Burlesque , 2019          83.0   \n",
       "31740                 The Child in Time , 2017          93.0   \n",
       "31741                      The Awakener , 2018         106.0   \n",
       "31742                                     2019          83.0   \n",
       "\n",
       "                                                   story  \\\n",
       "0      어린 시절 영화가 세상의 전부였던 소년 토토는 학교 수업을 마치면 마을 광장에 있는...   \n",
       "1      힐 밸리(Hill Valley)에 사는 주인공 마티 맥플라이(Marty McFly:...   \n",
       "2      브라운 박사(Dr. Emmett 'Doc' L. Brown: 코리스토퍼 로이드 분)...   \n",
       "3      1955년에 남겨진 마티는 박사가 1885년으로 갔음을 알게 된다. 그의 흔적을 찾...   \n",
       "4      대그룹의 총수인 로스 웹스터(Ross Webster: 로버트 본 분)와 여동생 베라...   \n",
       "...                                                  ...   \n",
       "31738  경주용 자동차 스피드 레이서인 데니가 사랑하는 여인을 만나 딸을 낳고, 가정을 이루...   \n",
       "31739  옷을 벗으라고? 내가 어떻게?\\n베티는 과체중의 초등학교 선생님이다. 친구를 따라 ...   \n",
       "31740  유명한 동화 작가 ‘스티븐’에게 세상에서 가장 소중한 딸 ‘케이트’가 실종되는 사건...   \n",
       "31741  부패 정치인 처단을 위한, 맞춤형 히어로의 탄생!\\n의문의 사고로 사랑하는 딸 ‘알...   \n",
       "31742  세상에서 가장 위험한 쓰레기\\n핵폐기물 옆에 사람이 살고 있다!\\n원자력발전소, 폐...   \n",
       "\n",
       "                                             making_note box_office    grade  \n",
       "0                                                    NaN         -1   전체 관람가  \n",
       "1                                                    NaN         -1  12세 관람가  \n",
       "2                                                    NaN         -1  12세 관람가  \n",
       "3                                                    NaN         -1   전체 관람가  \n",
       "4                                                    NaN         -1   전체 관람가  \n",
       "...                                                  ...        ...      ...  \n",
       "31738                                                NaN         -1   전체 관람가  \n",
       "31739                                                NaN         -1  15세 관람가  \n",
       "31740  ISSUE POINT #1\\n더욱 깊어진 눈빛과 섬세한 감정 연기로 돌아온 베네딕트...         -1  15세 관람가  \n",
       "31741                                                NaN         -1  15세 관람가  \n",
       "31742                                                NaN         -1   전체 관람가  \n",
       "\n",
       "[31743 rows x 10 columns]"
      ]
     },
     "execution_count": 2,
     "metadata": {},
     "output_type": "execute_result"
    }
   ],
   "source": [
    "data = pd.read_csv('./naver_story_002.csv')\n",
    "data"
   ]
  },
  {
   "cell_type": "code",
   "execution_count": 3,
   "metadata": {
    "ExecuteTime": {
     "end_time": "2022-08-03T08:49:08.175269Z",
     "start_time": "2022-08-03T08:49:08.161341Z"
    },
    "id": "izVKAAxTGw-E"
   },
   "outputs": [],
   "source": [
    "subset_df = data[['title', 'grade', 'story']]\n",
    "# subset_df.head(20)"
   ]
  },
  {
   "cell_type": "code",
   "execution_count": null,
   "metadata": {
    "id": "Do9OtSQCPB8E"
   },
   "outputs": [],
   "source": [
    "# # 레이블 분포 확인\n",
    "# subset_df['grade'].value_counts().plot(kind='bar')"
   ]
  },
  {
   "cell_type": "code",
   "execution_count": null,
   "metadata": {
    "id": "wRxvthJwG9K9"
   },
   "outputs": [],
   "source": [
    "# subset_df['grade'].unique()"
   ]
  },
  {
   "cell_type": "code",
   "execution_count": 4,
   "metadata": {
    "ExecuteTime": {
     "end_time": "2022-08-03T08:49:10.899574Z",
     "start_time": "2022-08-03T08:49:09.442938Z"
    },
    "id": "2BO8FaI7XSxr"
   },
   "outputs": [],
   "source": [
    "subset_df.drop_duplicates(subset = ['story'], inplace=True) # 중복 제거\n",
    "subset_df['story'] = subset_df['story'].str.replace(\"[^ㄱ-ㅎㅏ-ㅣ가-힣 ]\",\"\") # 정규 표현식 수행\n",
    "subset_df['story'].replace('', np.nan, inplace=True) # 공백은 Null 값으로 변경\n",
    "subset_df = subset_df.dropna(how='any') # Null 값 제거"
   ]
  },
  {
   "cell_type": "code",
   "execution_count": 5,
   "metadata": {
    "ExecuteTime": {
     "end_time": "2022-08-03T08:49:10.916903Z",
     "start_time": "2022-08-03T08:49:10.902975Z"
    },
    "id": "eCzUqO_LIuzT"
   },
   "outputs": [],
   "source": [
    "# 맞춰야하는 grade를 y로 두고 labelencoding 하기\n",
    "X = subset_df.drop(['grade'], axis=1)\n",
    "y = subset_df['grade']\n",
    "le = LabelEncoder()\n",
    "y = le.fit_transform(y)"
   ]
  },
  {
   "cell_type": "code",
   "execution_count": 6,
   "metadata": {
    "ExecuteTime": {
     "end_time": "2022-08-03T08:49:10.934599Z",
     "start_time": "2022-08-03T08:49:10.918268Z"
    },
    "id": "v6-zEbgxLAbu"
   },
   "outputs": [],
   "source": [
    "# train, test split\n",
    "X_train, X_test, y_train, y_test = train_test_split(X, y, test_size=0.2, random_state=42)\n",
    "y_train = to_categorical(y_train)\n",
    "y_test = to_categorical(y_test)"
   ]
  },
  {
   "cell_type": "code",
   "execution_count": null,
   "metadata": {
    "id": "R6s0bTgY7TPI"
   },
   "outputs": [],
   "source": [
    "!pip install konlpy\n",
    "\n",
    "from konlpy.tag import Mecab\n",
    "!git clone https://github.com/SOMJANG/Mecab-ko-for-Google-Colab.git\n",
    "%cd Mecab-ko-for-Google-Colab/\n",
    "!bash install_mecab-ko_on_colab190912.sh"
   ]
  },
  {
   "cell_type": "code",
   "execution_count": 8,
   "metadata": {
    "ExecuteTime": {
     "end_time": "2022-08-03T08:49:21.850166Z",
     "start_time": "2022-08-03T08:49:18.569282Z"
    },
    "id": "17vqhZx6RMUk"
   },
   "outputs": [],
   "source": [
    "# Mecab을 이용한 토큰화\n",
    "from konlpy.tag import Okt, Mecab\n",
    "\n",
    "# mecab = Mecab()\n",
    "okt = Okt()\n",
    "\n",
    "# 불용어 제거\n",
    "stopwords = ['도', '는', '다', '의', '가', '이', '은', '한', '에', '하', '고', '을', '를', '인', '듯', '과', '와', '네', '들', '듯', '지', '임', '게']"
   ]
  },
  {
   "cell_type": "code",
   "execution_count": 9,
   "metadata": {
    "ExecuteTime": {
     "end_time": "2022-08-03T08:59:18.896415Z",
     "start_time": "2022-08-03T08:49:26.851036Z"
    },
    "id": "rQkElMWDwFHQ"
   },
   "outputs": [
    {
     "name": "stderr",
     "output_type": "stream",
     "text": [
      "100%|█| 25253/25253 [09:51<00:00, 42.66\n"
     ]
    }
   ],
   "source": [
    "# train data mecab을 통한 형태소 분석\n",
    "\n",
    "train_X = []\n",
    "\n",
    "for sentence in tqdm(X_train['story']):\n",
    "    tokenized_sentence = okt.morphs(sentence) # 토큰화\n",
    "    stopwords_removed_sentence = [word for word in tokenized_sentence if not word in stopwords] # 불용어 제거\n",
    "    train_X.append(stopwords_removed_sentence)"
   ]
  },
  {
   "cell_type": "code",
   "execution_count": 10,
   "metadata": {
    "ExecuteTime": {
     "end_time": "2022-08-03T09:01:44.303939Z",
     "start_time": "2022-08-03T08:59:18.904658Z"
    },
    "id": "YtDXYSqTC_8F"
   },
   "outputs": [
    {
     "name": "stderr",
     "output_type": "stream",
     "text": [
      "100%|█| 6314/6314 [02:25<00:00, 43.43it\n"
     ]
    }
   ],
   "source": [
    "# test data mecab을 통한 형태소 분석\n",
    "\n",
    "test_X = []\n",
    "\n",
    "for sentence in tqdm(X_test['story']):\n",
    "    tokenized_sentence = okt.morphs(sentence) # 토큰화\n",
    "    stopwords_removed_sentence = [word for word in tokenized_sentence if not word in stopwords] # 불용어 제거\n",
    "    test_X.append(stopwords_removed_sentence)"
   ]
  },
  {
   "cell_type": "code",
   "execution_count": null,
   "metadata": {
    "id": "joetU8dT3-UF"
   },
   "outputs": [],
   "source": [
    "# X_train = train_X\n",
    "# X_test = test_X\n",
    "\n",
    "# tokenizer = Tokenizer()\n",
    "# tokenizer.fit_on_texts(X_train)"
   ]
  },
  {
   "cell_type": "code",
   "execution_count": null,
   "metadata": {
    "id": "fwuj7uwi4CB2"
   },
   "outputs": [],
   "source": [
    "# print(tokenizer.word_index)"
   ]
  },
  {
   "cell_type": "code",
   "execution_count": null,
   "metadata": {
    "id": "wnPdXen04VRT"
   },
   "outputs": [],
   "source": [
    "# threshold = 3\n",
    "# total_cnt = len(tokenizer.word_index) # 단어의 수\n",
    "# rare_cnt = 0 # 등장 빈도수가 threshold보다 작은 단어의 개수를 카운트\n",
    "# total_freq = 0 # 훈련 데이터의 전체 단어 빈도수 총 합\n",
    "# rare_freq = 0 # 등장 빈도수가 threshold보다 작은 단어의 등장 빈도수의 총 합\n",
    "\n",
    "# # 단어와 빈도수의 쌍(pair)을 key와 value로 받는다.\n",
    "# for key, value in tokenizer.word_counts.items():\n",
    "#     total_freq = total_freq + value\n",
    "\n",
    "#     # 단어의 등장 빈도수가 threshold보다 작으면\n",
    "#     if(value < threshold):\n",
    "#         rare_cnt = rare_cnt + 1\n",
    "#         rare_freq = rare_freq + value\n",
    "\n",
    "# print('단어 집합(vocabulary)의 크기 :',total_cnt)\n",
    "# print('등장 빈도가 %s번 이하인 희귀 단어의 수: %s'%(threshold - 1, rare_cnt))\n",
    "# print(\"단어 집합에서 희귀 단어의 비율:\", (rare_cnt / total_cnt)*100)\n",
    "# print(\"전체 등장 빈도에서 희귀 단어 등장 빈도 비율:\", (rare_freq / total_freq)*100)"
   ]
  },
  {
   "cell_type": "code",
   "execution_count": 11,
   "metadata": {
    "ExecuteTime": {
     "end_time": "2022-08-03T09:01:51.271471Z",
     "start_time": "2022-08-03T09:01:44.306288Z"
    },
    "id": "1rI7W-j54ZgI"
   },
   "outputs": [],
   "source": [
    "X_train = train_X\n",
    "X_test = test_X\n",
    "\n",
    "# 토큰화\n",
    "tokenizer = Tokenizer()\n",
    "tokenizer.fit_on_texts(X_train)\n",
    "\n",
    "# 전체 단어 개수 중 빈도수 2이하인 단어는 제거.\n",
    "# 0번 패딩 토큰을 고려하여 + 1\n",
    "vocab_size = len(tokenizer.word_index) + 1\n",
    "# print('단어 집합의 크기 :',vocab_size)\n",
    "\n",
    "# text sequence to int sequence\n",
    "X_train = tokenizer.texts_to_sequences(X_train)\n",
    "X_test = tokenizer.texts_to_sequences(X_test)"
   ]
  },
  {
   "cell_type": "code",
   "execution_count": 13,
   "metadata": {
    "ExecuteTime": {
     "end_time": "2022-08-03T10:00:38.553679Z",
     "start_time": "2022-08-03T09:59:26.054105Z"
    },
    "id": "fj4k7jTPg0W_"
   },
   "outputs": [],
   "source": [
    "# fasttext word embedding\n",
    "import gensim\n",
    "from gensim.models.fasttext import FastText\n",
    "\n",
    "embeddings_dictionary = dict()\n",
    "fasttext = open('./wiki.ko.vec', encoding='utf8')\n",
    "\n",
    "for line in fasttext:\n",
    "    records = line.split()\n",
    "    word = records[0]\n",
    "    vector_dimensions = np.asarray(records[1:], dtype='float32')\n",
    "    embeddings_dictionary[word] = vector_dimensions\n",
    "    \n",
    "fasttext.close()\n",
    "\n",
    "embedding_matrix = np.zeros((vocab_size, 300))\n",
    "for word, index in tokenizer.word_index.items():\n",
    "    embedding_vector = embeddings_dictionary.get(word)\n",
    "    if embedding_vector is not None:\n",
    "        embedding_matrix[index] = embedding_vector"
   ]
  },
  {
   "cell_type": "code",
   "execution_count": null,
   "metadata": {
    "id": "aeeOGvfvgY0V"
   },
   "outputs": [],
   "source": [
    "# # GloVe word embedding\n",
    "# embeddings_dictionary = dict()\n",
    "# glove = open('./glove.6B.100d.txt', encoding='utf8')\n",
    "\n",
    "# for line in glove:\n",
    "#     records = line.split()\n",
    "#     word = records[0]\n",
    "#     vector_dimensions = np.asarray(records[1:], dtype='float32')\n",
    "#     embeddings_dictionary[word] = vector_dimensions\n",
    "    \n",
    "# glove.close()\n",
    "\n",
    "# embedding_matrix = np.zeros((vocab_size, 100))\n",
    "# for word, index in tokenizer.word_index.items():\n",
    "#     embedding_vector = embeddings_dictionary.get(word)\n",
    "#     if embedding_vector is not None:\n",
    "#         embedding_matrix[index] = embedding_vector"
   ]
  },
  {
   "cell_type": "code",
   "execution_count": null,
   "metadata": {
    "id": "gc_D3HDwLAlY"
   },
   "outputs": [],
   "source": [
    "# # 토큰화\n",
    "# tokenizer = Tokenizer(num_words=10000)\n",
    "# tokenizer.fit_on_texts(X_train)\n",
    "\n",
    "# X_train = tokenizer.texts_to_sequences(X_train)\n",
    "# X_test = tokenizer.texts_to_sequences(X_test)\n",
    "\n",
    "# vocab_size = len(tokenizer.word_index) + 1"
   ]
  },
  {
   "cell_type": "code",
   "execution_count": 14,
   "metadata": {
    "ExecuteTime": {
     "end_time": "2022-08-03T10:00:39.765228Z",
     "start_time": "2022-08-03T10:00:38.578204Z"
    },
    "id": "j1oizPg-TEnR"
   },
   "outputs": [],
   "source": [
    "X_test = pad_sequences(X_test)\n",
    "X_train = pad_sequences(X_train)"
   ]
  },
  {
   "cell_type": "code",
   "execution_count": 15,
   "metadata": {
    "ExecuteTime": {
     "end_time": "2022-08-03T10:00:43.510414Z",
     "start_time": "2022-08-03T10:00:39.766837Z"
    },
    "id": "KJqMS8QFn9FC"
   },
   "outputs": [
    {
     "name": "stderr",
     "output_type": "stream",
     "text": [
      "2022-08-03 19:00:42.169529: I tensorflow/core/platform/cpu_feature_guard.cc:151] This TensorFlow binary is optimized with oneAPI Deep Neural Network Library (oneDNN) to use the following CPU instructions in performance-critical operations:  SSE4.1 SSE4.2\n",
      "To enable them in other operations, rebuild TensorFlow with the appropriate compiler flags.\n"
     ]
    },
    {
     "name": "stdout",
     "output_type": "stream",
     "text": [
      "Model: \"sequential\"\n",
      "_________________________________________________________________\n",
      " Layer (type)                Output Shape              Param #   \n",
      "=================================================================\n",
      " embedding (Embedding)       (None, None, 100)         10174200  \n",
      "                                                                 \n",
      " lstm (LSTM)                 (None, 128)               117248    \n",
      "                                                                 \n",
      " dense (Dense)               (None, 4)                 516       \n",
      "                                                                 \n",
      "=================================================================\n",
      "Total params: 10,291,964\n",
      "Trainable params: 117,764\n",
      "Non-trainable params: 10,174,200\n",
      "_________________________________________________________________\n"
     ]
    }
   ],
   "source": [
    "# build the neural network model\n",
    "model = Sequential()\n",
    "model.add(Embedding(input_dim=vocab_size, output_dim=100, trainable=False))\n",
    "model.add(LSTM(units=128, dropout=0.2, recurrent_dropout=0.2))\n",
    "model.add(Dense(4, activation='softmax'))\n",
    "model.compile(loss='categorical_crossentropy', optimizer='adam', metrics=['accuracy'])\n",
    "model.summary()"
   ]
  },
  {
   "cell_type": "code",
   "execution_count": 16,
   "metadata": {
    "ExecuteTime": {
     "end_time": "2022-08-04T12:52:54.305239Z",
     "start_time": "2022-08-03T10:00:43.519969Z"
    },
    "id": "56_pvGhNn9Qe"
   },
   "outputs": [
    {
     "name": "stdout",
     "output_type": "stream",
     "text": [
      "Epoch 1/10\n",
      "158/158 [==============================] - 12041s 76s/step - loss: 1.2808 - accuracy: 0.4009 - val_loss: 1.2460 - val_accuracy: 0.4266\n",
      "Epoch 2/10\n",
      "158/158 [==============================] - 11193s 71s/step - loss: 1.2496 - accuracy: 0.4208 - val_loss: 1.2314 - val_accuracy: 0.4296\n",
      "Epoch 3/10\n",
      "158/158 [==============================] - 11092s 70s/step - loss: 1.2283 - accuracy: 0.4337 - val_loss: 1.2129 - val_accuracy: 0.4387\n",
      "Epoch 4/10\n",
      "158/158 [==============================] - 11279s 71s/step - loss: 1.2281 - accuracy: 0.4363 - val_loss: 1.2201 - val_accuracy: 0.4300\n",
      "Epoch 5/10\n",
      "158/158 [==============================] - 12293s 78s/step - loss: 1.2147 - accuracy: 0.4433 - val_loss: 1.2077 - val_accuracy: 0.4397\n",
      "Epoch 6/10\n",
      "158/158 [==============================] - 12480s 79s/step - loss: 1.2073 - accuracy: 0.4450 - val_loss: 1.1946 - val_accuracy: 0.4457\n",
      "Epoch 7/10\n",
      "158/158 [==============================] - 12975s 82s/step - loss: 1.2028 - accuracy: 0.4469 - val_loss: 1.2021 - val_accuracy: 0.4427\n",
      "Epoch 8/10\n",
      "158/158 [==============================] - 7093s 45s/step - loss: 1.1966 - accuracy: 0.4483 - val_loss: 1.1950 - val_accuracy: 0.4466\n",
      "Epoch 9/10\n",
      "158/158 [==============================] - 3149s 20s/step - loss: 1.1916 - accuracy: 0.4547 - val_loss: 1.1812 - val_accuracy: 0.4617\n",
      "Epoch 10/10\n",
      "158/158 [==============================] - 3136s 20s/step - loss: 1.1874 - accuracy: 0.4563 - val_loss: 1.1809 - val_accuracy: 0.4589\n"
     ]
    }
   ],
   "source": [
    "hist = model.fit(X_train, y_train, batch_size=128, epochs=10, validation_split=0.2, verbose=1)"
   ]
  },
  {
   "cell_type": "code",
   "execution_count": 17,
   "metadata": {
    "ExecuteTime": {
     "end_time": "2022-08-04T12:54:42.505130Z",
     "start_time": "2022-08-04T12:52:54.333467Z"
    },
    "id": "N1hpgnyMocgB"
   },
   "outputs": [
    {
     "name": "stdout",
     "output_type": "stream",
     "text": [
      "198/198 [==============================] - 108s 544ms/step - loss: 1.1923 - accuracy: 0.4558\n",
      "loss:  1.1922810077667236\n",
      "accuracy:  0.4558124840259552\n"
     ]
    }
   ],
   "source": [
    "loss, acc = model.evaluate(X_test, y_test, verbose=1)\n",
    "print('loss: ', loss)\n",
    "print('accuracy: ', acc)"
   ]
  },
  {
   "cell_type": "code",
   "execution_count": 19,
   "metadata": {
    "ExecuteTime": {
     "end_time": "2022-08-04T12:59:09.277608Z",
     "start_time": "2022-08-04T12:59:08.958024Z"
    },
    "id": "b8Q0Gj2Oo8pS"
   },
   "outputs": [
    {
     "data": {
      "image/png": "[encoded data removed]",
      "text/plain": [
       "<Figure size 432x288 with 1 Axes>"
      ]
     },
     "metadata": {
      "needs_background": "light"
     },
     "output_type": "display_data"
    },
    {
     "data": {
      "image/png": "[encoded data removed]",
      "text/plain": [
       "<Figure size 432x288 with 1 Axes>"
      ]
     },
     "metadata": {
      "needs_background": "light"
     },
     "output_type": "display_data"
    }
   ],
   "source": [
    "# plt.plot(hist.history['acc'])\n",
    "# plt.plot(hist.history['val_acc'])\n",
    "plt.title('model accuracy: {:.2f}'.format(acc))\n",
    "plt.ylabel('accuracy')\n",
    "plt.xlabel('epoch')\n",
    "plt.legend(['train', 'test'], loc='upper left')\n",
    "plt.show()\n",
    "\n",
    "plt.plot(hist.history['loss'])\n",
    "plt.plot(hist.history['val_loss'])\n",
    "plt.title('model loss: {:.2f}'.format(loss))\n",
    "plt.ylabel('loss')\n",
    "plt.xlabel('epoch')\n",
    "plt.legend(['train', 'test'], loc='upper left')\n",
    "plt.show()"
   ]
  },
  {
   "cell_type": "code",
   "execution_count": 20,
   "metadata": {
    "ExecuteTime": {
     "end_time": "2022-08-04T12:59:10.036484Z",
     "start_time": "2022-08-04T12:59:09.772969Z"
    },
    "id": "Ulfmpj3go8rl"
   },
   "outputs": [],
   "source": [
    "# save the model\n",
    "model.save('movie_description_classifier_fasttext.h5')\n",
    "\n",
    "# save the tokenizer for use in other clients\n",
    "pickle.dump(tokenizer, open('tokenizer3.pkl', 'wb'))"
   ]
  },
  {
   "cell_type": "code",
   "execution_count": null,
   "metadata": {
    "id": "BtbWJh8_pGTO"
   },
   "outputs": [],
   "source": []
  }
 ],
 "metadata": {
  "colab": {
   "collapsed_sections": [],
   "name": "Can_AI_predict_the_MPAA_rating_of_a_movie_based_only_on_its_description(fasttext).ipynb",
   "private_outputs": true,
   "provenance": []
  },
  "kernelspec": {
   "display_name": "Python 3 (ipykernel)",
   "language": "python",
   "name": "python3"
  },
  "language_info": {
   "codemirror_mode": {
    "name": "ipython",
    "version": 3
   },
   "file_extension": ".py",
   "mimetype": "text/x-python",
   "name": "python",
   "nbconvert_exporter": "python",
   "pygments_lexer": "ipython3",
   "version": "3.8.13"
  },
  "toc": {
   "base_numbering": 1,
   "nav_menu": {},
   "number_sections": true,
   "sideBar": true,
   "skip_h1_title": false,
   "title_cell": "Table of Contents",
   "title_sidebar": "Contents",
   "toc_cell": false,
   "toc_position": {},
   "toc_section_display": true,
   "toc_window_display": false
  }
 },
 "nbformat": 4,
 "nbformat_minor": 1
}
