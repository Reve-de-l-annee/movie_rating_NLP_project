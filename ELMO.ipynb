{
 "cells": [
  {
   "cell_type": "code",
   "execution_count": 1,
   "metadata": {},
   "outputs": [
    {
     "name": "stdout",
     "output_type": "stream",
     "text": [
      "WARNING:tensorflow:From /opt/homebrew/Caskroom/miniforge/base/envs/dl/lib/python3.8/site-packages/tensorflow/python/compat/v2_compat.py:107: disable_resource_variables (from tensorflow.python.ops.variable_scope) is deprecated and will be removed in a future version.\n",
      "Instructions for updating:\n",
      "non-resource variables are not supported in the long term\n"
     ]
    }
   ],
   "source": [
    "import tensorflow.compat.v1 as tf\n",
    "tf.disable_v2_behavior()"
   ]
  },
  {
   "cell_type": "code",
   "execution_count": 2,
   "metadata": {
    "colab": {
     "base_uri": "https://localhost:8080/"
    },
    "id": "ufZid6KIwX2-",
    "outputId": "be8fb8cc-298b-46c0-e515-92b8eef5c30d"
   },
   "outputs": [
    {
     "name": "stdout",
     "output_type": "stream",
     "text": [
      "Collecting tensorflow-hub\n",
      "  Using cached tensorflow_hub-0.12.0-py2.py3-none-any.whl (108 kB)\n",
      "Requirement already satisfied: numpy>=1.12.0 in /opt/homebrew/Caskroom/miniforge/base/envs/dl/lib/python3.8/site-packages (from tensorflow-hub) (1.23.1)\n",
      "Requirement already satisfied: protobuf>=3.8.0 in /opt/homebrew/Caskroom/miniforge/base/envs/dl/lib/python3.8/site-packages (from tensorflow-hub) (3.20.1)\n",
      "Installing collected packages: tensorflow-hub\n",
      "Successfully installed tensorflow-hub-0.12.0\n"
     ]
    }
   ],
   "source": [
    "!pip install tensorflow-hub"
   ]
  },
  {
   "cell_type": "code",
   "execution_count": 3,
   "metadata": {
    "colab": {
     "base_uri": "https://localhost:8080/"
    },
    "id": "BOjj3k3ewUM_",
    "outputId": "172bb4a3-bcc9-4220-eb5d-79eabea878b3"
   },
   "outputs": [],
   "source": [
    "import tensorflow_hub as hub\n",
    "import tensorflow as tf\n",
    "from keras import backend as K\n",
    "import urllib.request\n",
    "import pandas as pd\n",
    "import numpy as np"
   ]
  },
  {
   "cell_type": "code",
   "execution_count": 4,
   "metadata": {
    "id": "nIyQrGhewnqa"
   },
   "outputs": [],
   "source": [
    "df = pd.read_csv('./naver_story_002.csv')\n",
    "df.drop(columns=['Unnamed: 0'],inplace=True)\n",
    "index = df[(df['grade'] == 'Unknown')|(df['grade'] == 'NR')|(df['grade'] == 'PG')|(df['grade'] == 'PG-13')|(df['grade'] == 'R')|(df['grade'] == 'G')].index\n",
    "df.drop(index, inplace=True)\n",
    "df.grade = df.grade.replace({'전체 관람가':0, '12세 관람가':1, '15세 관람가':2,'청소년 관람불가':3})\n",
    "X = df['story']\n",
    "y = df['grade']"
   ]
  },
  {
   "cell_type": "code",
   "execution_count": 5,
   "metadata": {
    "id": "xtp6mHX-xDpa"
   },
   "outputs": [
    {
     "name": "stderr",
     "output_type": "stream",
     "text": [
      "2022-08-02 17:43:40.057224: I tensorflow/compiler/mlir/mlir_graph_optimization_pass.cc:354] MLIR V1 optimization pass is not enabled\n",
      "2022-08-02 17:43:40.065618: W tensorflow/core/platform/profile_utils/cpu_utils.cc:128] Failed to get CPU frequency: 0 Hz\n"
     ]
    }
   ],
   "source": [
    "elmo = hub.Module(\"https://tfhub.dev/google/elmo/1\", trainable=True)\n",
    "# 텐서플로우 허브로부터 ELMo를 다운로드\n",
    "\n",
    "sess =  tf.compat.v1.Session()\n",
    "K.set_session(sess)\n",
    "sess.run(tf.compat.v1.global_variables_initializer())\n",
    "sess.run(tf.compat.v1.tables_initializer())"
   ]
  },
  {
   "cell_type": "code",
   "execution_count": 6,
   "metadata": {
    "id": "QoNSR-AcxH9V"
   },
   "outputs": [],
   "source": [
    "n_of_train = int(len(X) * 0.8)\n",
    "n_of_test = int(len(X) - n_of_train)\n",
    "X_train = X[:n_of_train] \n",
    "y_train = np.asarray(y[:n_of_train]) \n",
    "X_test = X[n_of_train:] \n",
    "y_test = np.asarray(y[n_of_train:]) "
   ]
  },
  {
   "cell_type": "code",
   "execution_count": 7,
   "metadata": {},
   "outputs": [],
   "source": [
    "X_train = np.asarray([' '.join(t.split()[0:200]) for t in X_train])\n",
    "X_test = np.asarray([' '.join(t.split()[0:200]) for t in X_test])"
   ]
  },
  {
   "cell_type": "code",
   "execution_count": 8,
   "metadata": {
    "id": "vU9Fo1iQxcgW"
   },
   "outputs": [],
   "source": [
    "def ELMoEmbedding(x):\n",
    "    return elmo(tf.squeeze(tf.cast(x, tf.string)), as_dict=True, signature=\"default\")[\"default\"]"
   ]
  },
  {
   "cell_type": "code",
   "execution_count": 9,
   "metadata": {
    "colab": {
     "base_uri": "https://localhost:8080/"
    },
    "id": "MO74ZlgXxiOx",
    "outputId": "b936f7ce-2e57-4f12-b61a-1e0f857015f9"
   },
   "outputs": [
    {
     "name": "stdout",
     "output_type": "stream",
     "text": [
      "INFO:tensorflow:Saver not created because there are no variables in the graph to restore\n"
     ]
    },
    {
     "name": "stderr",
     "output_type": "stream",
     "text": [
      "INFO:tensorflow:Saver not created because there are no variables in the graph to restore\n"
     ]
    }
   ],
   "source": [
    "from keras.models import Model\n",
    "from keras.layers import Dense, Lambda, Input\n",
    "\n",
    "input_text = Input(shape=(1,), dtype=tf.string)\n",
    "embedding_layer = Lambda(ELMoEmbedding, output_shape=(1024, ))(input_text)\n",
    "hidden_layer = Dense(256, activation='relu')(embedding_layer)\n",
    "output_layer = Dense(4, activation='sigmoid')(hidden_layer)\n",
    "model = Model(inputs=[input_text], outputs=output_layer)\n",
    "model.compile(loss='sparse_categorical_crossentropy', optimizer='adam', metrics=['accuracy'])"
   ]
  },
  {
   "cell_type": "code",
   "execution_count": 10,
   "metadata": {
    "colab": {
     "base_uri": "https://localhost:8080/"
    },
    "id": "CiAshScaxly-",
    "outputId": "e43b862d-5b9d-4493-dc9e-df1abaf20b71"
   },
   "outputs": [
    {
     "name": "stdout",
     "output_type": "stream",
     "text": [
      "Train on 25394 samples\n",
      "Epoch 1/6\n",
      "25394/25394 [==============================] - 3909s 154ms/sample - loss: 1.3024 - acc: 0.3889\n",
      "Epoch 2/6\n",
      "25394/25394 [==============================] - 3919s 154ms/sample - loss: 1.2662 - acc: 0.4103\n",
      "Epoch 3/6\n",
      "25394/25394 [==============================] - 3855s 152ms/sample - loss: 1.2517 - acc: 0.4182\n",
      "Epoch 4/6\n",
      "25394/25394 [==============================] - 3845s 151ms/sample - loss: 1.2426 - acc: 0.4245\n",
      "Epoch 5/6\n",
      "25394/25394 [==============================] - 3845s 151ms/sample - loss: 1.2324 - acc: 0.4331\n",
      "Epoch 6/6\n",
      "25394/25394 [==============================] - 3852s 152ms/sample - loss: 1.2218 - acc: 0.4382\n"
     ]
    }
   ],
   "source": [
    "history = model.fit(X_train, y_train, epochs=6, batch_size=100)"
   ]
  },
  {
   "cell_type": "code",
   "execution_count": 11,
   "metadata": {
    "id": "ts70FOSxzfEo"
   },
   "outputs": [
    {
     "name": "stderr",
     "output_type": "stream",
     "text": [
      "/opt/homebrew/Caskroom/miniforge/base/envs/dl/lib/python3.8/site-packages/keras/engine/training_v1.py:2045: UserWarning: `Model.state_updates` will be removed in a future version. This property should not be used in TensorFlow 2.0, as `updates` are applied automatically.\n",
      "  updates = self.state_updates\n"
     ]
    },
    {
     "name": "stdout",
     "output_type": "stream",
     "text": [
      "\n",
      " 테스트 정확도: 0.4829\n"
     ]
    }
   ],
   "source": [
    "print(\"\\n 테스트 정확도: %.4f\" % (model.evaluate(X_test, y_test)[1]))"
   ]
  },
  {
   "cell_type": "code",
   "execution_count": null,
   "metadata": {},
   "outputs": [],
   "source": []
  }
 ],
 "metadata": {
  "colab": {
   "collapsed_sections": [],
   "name": "moviescript_classifier.ipynb",
   "provenance": []
  },
  "gpuClass": "standard",
  "kernelspec": {
   "display_name": "Python 3 (ipykernel)",
   "language": "python",
   "name": "python3"
  },
  "language_info": {
   "codemirror_mode": {
    "name": "ipython",
    "version": 3
   },
   "file_extension": ".py",
   "mimetype": "text/x-python",
   "name": "python",
   "nbconvert_exporter": "python",
   "pygments_lexer": "ipython3",
   "version": "3.8.13"
  }
 },
 "nbformat": 4,
 "nbformat_minor": 1
}
